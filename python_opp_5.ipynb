{
  "nbformat": 4,
  "nbformat_minor": 0,
  "metadata": {
    "colab": {
      "provenance": [],
      "authorship_tag": "ABX9TyOIQDBu2T0gH1zEsOXSSBEY",
      "include_colab_link": true
    },
    "kernelspec": {
      "name": "python3",
      "display_name": "Python 3"
    },
    "language_info": {
      "name": "python"
    }
  },
  "cells": [
    {
      "cell_type": "markdown",
      "metadata": {
        "id": "view-in-github",
        "colab_type": "text"
      },
      "source": [
        "<a href=\"https://colab.research.google.com/github/jagnyasenymohapatra/python-oop/blob/main/python_opp_5.ipynb\" target=\"_parent\"><img src=\"https://colab.research.google.com/assets/colab-badge.svg\" alt=\"Open In Colab\"/></a>"
      ]
    },
    {
      "cell_type": "markdown",
      "source": [],
      "metadata": {
        "id": "QzDsjUC6nQ3C"
      }
    },
    {
      "cell_type": "markdown",
      "source": [
        "1.What is Object-Oriented Programming (OOP) ?\n",
        "\n",
        "\n",
        "Object-Oriented Programming (OOP) is a programming paradigm that revolves around the concept of objects and classes. It's a way of designing and organizing code to simulate real-world objects and systems.\n",
        "\n",
        "Key Principles of OOP:\n",
        "\n",
        "1. Encapsulation: Bundling data and its associated methods that operate on that data within a single unit, called a class or object.\n",
        "2. Abstraction: Hiding the implementation details of an object from the outside world, exposing only the necessary information through public methods.\n",
        "3. Inheritance: Creating a new class based on an existing class, inheriting its properties and behavior.\n",
        "4. Polymorphism: The ability of an object to take on multiple forms, depending on the context in which it's used.\n",
        "\n",
        "Basic OOP Concepts:\n",
        "\n",
        "1. Class: A blueprint or template that defines the properties and behavior of an object.\n",
        "2. Object: An instance of a class, with its own set of attributes (data) and methods (functions).\n",
        "3. Attributes: Data members of a class or object, which describe its characteristics.\n",
        "4. Methods: Functions that belong to a class or object, which perform specific actions.\n",
        "\n",
        "Benefits of OOP:\n",
        "\n",
        "1. Modularity: OOP promotes modular code, making it easier to maintain and reuse.\n",
        "2. Reusability: Classes and objects can be reused in other programs, reducing development time.\n",
        "3. Easier Debugging: OOP's modular nature makes it easier to identify and fix errors.\n",
        "4. Improved Readability: OOP code is often more readable, as it's organized around real-world objects and concepts.\n",
        "\n"
      ],
      "metadata": {
        "id": "iCzbXAofnWaA"
      }
    },
    {
      "cell_type": "markdown",
      "source": [
        "2.F What is a class in OOP?\n",
        "\n",
        "  In Object-Oriented Programming (OOP), a class is a blueprint or template that defines the properties and behavior of an object. It's essentially a design pattern or a template that defines the characteristics and actions of an object.\n",
        "\n",
        "Key Components of a Class:\n",
        "\n",
        "1. Properties (Attributes or Data Members): These are the data variables that are defined inside the class. They describe the characteristics of the object, such as its name, age, address, etc.\n",
        "2. Methods (Functions or Procedures): These are the actions that can be performed on the object. They define the behavior of the object, such as calculating the area of a rectangle, sending a message, etc.\n",
        "3. Constructors: These are special methods that are used to initialize the objects when they are created.\n",
        "4. Access Modifiers: These are keywords that define the accessibility of the class members (properties and methods), such as public, private, protected, etc.\n",
        "\n",
        "Characteristics of a Class:\n",
        "\n",
        "1. Abstraction: A class can represent a complex real-world object or concept in a simplified way.\n",
        "2. Encapsulation: A class can hide its implementation details and expose only the necessary information through public methods.\n",
        "3. Inheritance: A class can inherit the properties and behavior of another class.\n",
        "4. Polymorphism: A class can be used to create objects that can take on multiple forms.\n",
        "\n",
        "Example of a Class:\n",
        "\n",
        "Suppose we want to create a class called \"Car\" that represents a car object. The class might have the following properties and methods:\n",
        "\n",
        "Properties:\n",
        "\n",
        "- color\n",
        "- model\n",
        "- year\n",
        "\n",
        "Methods:\n",
        "\n",
        "- startEngine()\n",
        "- accelerate()\n",
        "- brake()\n",
        "\n",
        "Constructor:\n",
        "\n",
        "- Car(color, model, year)\n",
        "\n",
        "This class can be used to create multiple car objects, each with its own set of properties and behaviors.\n"
      ],
      "metadata": {
        "id": "bolXnMKznnKV"
      }
    },
    {
      "cell_type": "markdown",
      "source": [
        "3.What is an object in OOP?\n",
        "  \n",
        "  In Object-Oriented Programming (OOP), an object is an instance of a class, which represents a real-world entity or concept. It has its own set of attributes (data) and methods (functions) that describe its characteristics and behavior.\n",
        "\n",
        "_ Characteristics of an Object:_\n",
        "\n",
        "1. State: An object has its own set of attributes, which define its state.\n",
        "2. Behavior: An object has methods that define its behavior.\n",
        "3. Identity: Each object has a unique identity, which distinguishes it from other objects.\n",
        "4. Autonomy: An object can operate independently, using its own methods and attributes.\n",
        "\n",
        "Example of an Object:\n",
        "\n",
        "Suppose we have a class called \"Car\" with attributes like color, model, and year. We can create an object called \"myCar\" which is an instance of the \"Car\" class:\n",
        "\n",
        "myCar = Car(\"Red\", \"Toyota\", 2020)\n",
        "\n",
        "In this example, \"myCar\" is an object with its own set of attributes (color=\"Red\", model=\"Toyota\", year=2020) and methods (startEngine(), accelerate(), brake()).\n",
        "\n",
        "Types of Objects:\n",
        "\n",
        "1. Instance Object: Created using the \"new\" keyword, e.g., myCar = new Car();\n",
        "2. Static Object: Shared by all instances of a class, e.g., a static variable in a class.\n",
        "3. Abstract Object: Represents a concept or idea, rather than a physical entity.\n",
        "\n",
        "Objects are the building blocks of OOP, and they help model real-world entities and systems in a more intuitive and organized way."
      ],
      "metadata": {
        "id": "_rMqoDOkn7t-"
      }
    },
    {
      "cell_type": "markdown",
      "source": [
        "4.What is the difference between abstraction and encapsulation?\n",
        "\n",
        " Abstraction and encapsulation are two fundamental concepts in Object-Oriented Programming (OOP) that are often related but distinct:\n",
        "\n",
        "Abstraction\n",
        "Abstraction is the process of exposing only the necessary information about an object or system while hiding the implementation details. It's about defining an interface or a contract that specifies how to interact with an object without revealing its internal workings.\n",
        "\n",
        "Example\n",
        "A car's transmission system is complex, but you don't need to know how it works to drive the car. You only need to know how to use the gearshift and accelerator. This is an example of abstraction.\n",
        "\n",
        "Encapsulation\n",
        "Encapsulation is the process of bundling data and its associated methods that operate on that data within a single unit, called a class or object. It's about hiding the data and implementation details from the outside world and only exposing the necessary information through public methods.\n",
        "\n",
        "Example\n",
        "A bank account has data like account number, balance, and owner's name. The methods to deposit, withdraw, and check balance are encapsulated within the BankAccount class. This way, the data is protected from external interference, and only authorized methods can access or modify it.\n",
        "\n",
        "Key differences\n",
        "1. Purpose: Abstraction is about exposing a simplified interface, while encapsulation is about hiding data and implementation details.\n",
        "2. Focus: Abstraction focuses on the interface, while encapsulation focuses on the data and its associated methods.\n",
        "3. Level of hiding: Abstraction hides implementation details, while encapsulation hides both data and implementation details.\n",
        "\n",
        "To illustrate the difference, consider a car's engine:\n",
        "\n",
        "- Abstraction: The engine's interface (e.g., accelerator, brake) is exposed, but the internal workings (e.g., combustion, pistons) are hidden.\n",
        "- Encapsulation: The engine's data (e.g., horsepower, torque) and methods (e.g., start, stop) are bundled together and hidden from the outside world."
      ],
      "metadata": {
        "id": "WtN0zuXooMO_"
      }
    },
    {
      "cell_type": "markdown",
      "source": [
        "5.What are dunder methods in Python?\n",
        "\n",
        "  In Python, \"dunder\" methods are special methods that are surrounded by double underscores (i.e., __) on either side of the method name. These methods are also known as \"magic methods\" or \"special methods.\"\n",
        "\n",
        "Dunder methods are used to emulate the behavior of built-in types in Python. They allow you to customize the behavior of your objects, making them more intuitive and user-friendly.\n",
        "\n",
        "Here are some examples of dunder methods:\n",
        "\n",
        "1. __init__: Initializes an object when it's created.\n",
        "2. __str__: Returns a string representation of an object.\n",
        "3. __repr__: Returns a string representation of an object, used for debugging.\n",
        "4. __add__: Defines the behavior of the + operator.\n",
        "5. __len__: Returns the length of an object.\n",
        "6. __getitem__: Defines the behavior of indexing ([]).\n",
        "7. __setitem__: Defines the behavior of assigning to an indexed element.\n",
        "8. __delitem__: Defines the behavior of deleting an indexed element.\n",
        "\n",
        "By implementing dunder methods, you can create objects that behave like built-in types, making your code more readable and maintainable.\n",
        "\n",
        "Here's an example of using dunder methods to create a simple Vector class:\n",
        "\n",
        "class Vector:\n",
        "    def __init__(self, x, y):\n",
        "        self.x = x\n",
        "        self.y = y\n",
        "\n",
        "    def __str__(self):\n",
        "        return f\"Vector({self.x}, {self.y})\"\n",
        "\n",
        "    def __add__(self, other):\n",
        "        return Vector(self.x + other.x, self.y + other.y)\n",
        "\n",
        "v1 = Vector(2, 3)\n",
        "v2 = Vector(4, 5)\n",
        "\n",
        "print(v1)  # Output: Vector(2, 3)\n",
        "print(v1 + v2)  # Output: Vector(6, 8)\n",
        "\n",
        "In this example, we've implemented the __init__, __str__, and __add__ dunder methods to create a Vector class that behaves like a built-in type.\n"
      ],
      "metadata": {
        "id": "j2CJzpikofm3"
      }
    },
    {
      "cell_type": "markdown",
      "source": [
        "6.Explain the concept of inheritance in OOP?\n",
        "\n",
        "Inheritance is a fundamental concept in Object-Oriented Programming (OOP) that allows one class to inherit the properties and behavior of another class.\n",
        "\n",
        "Key Concepts:\n",
        "\n",
        "1. Parent Class (also known as Superclass or Base Class): The class that is being inherited from.\n",
        "2. Child Class (also known as Subclass or Derived Class): The class that inherits the properties and behavior of the parent class.\n",
        "3. Inheritance: The process of creating a new class based on an existing class.\n",
        "\n",
        "How Inheritance Works:\n",
        "\n",
        "1. The child class inherits all the attributes (data) and methods (functions) of the parent class.\n",
        "2. The child class can also add new attributes and methods or override the ones inherited from the parent class.\n",
        "3. The child class can be used to create objects that have the combined properties and behavior of both the parent and child classes.\n",
        "\n",
        "Types of Inheritance:\n",
        "\n",
        "1. Single Inheritance: A child class inherits from a single parent class.\n",
        "2. Multiple Inheritance: A child class inherits from multiple parent classes.\n",
        "3. Multilevel Inheritance: A child class inherits from a parent class that itself inherits from another parent class.\n",
        "4. Hierarchical Inheritance: A parent class is inherited by multiple child classes.\n",
        "\n",
        "Benefits of Inheritance:\n",
        "\n",
        "1. Code Reusability: Inheritance allows for code reusability, as the child class can inherit and build upon the properties and behavior of the parent class.\n",
        "2. Easier Maintenance: Inheritance makes it easier to maintain and modify code, as changes to the parent class can be automatically inherited by the child class.\n",
        "3. Improved Readability: Inheritance can improve code readability, as the relationships between classes are clearly defined.\n",
        "\n"
      ],
      "metadata": {
        "id": "DazP0f7KowYr"
      }
    },
    {
      "cell_type": "markdown",
      "source": [
        "7.What is polymorphism in OOP?\n",
        "\n",
        "Polymorphism is a fundamental concept in Object-Oriented Programming (OOP) that allows objects of different classes to be treated as objects of a common superclass. It enables objects to take on multiple forms, depending on the context in which they are used.\n",
        "\n",
        "Key Concepts:\n",
        "\n",
        "1. Method Overloading: Multiple methods with the same name but different parameters can be defined in a class.\n",
        "2. Method Overriding: A subclass provides a different implementation of a method that is already defined in its superclass.\n",
        "3. Operator Overloading: Operators such as +, -, *, / can be redefined for user-defined classes.\n",
        "4. Function Polymorphism: Functions can be defined to accept arguments of different data types.\n",
        "\n",
        "Types of Polymorphism:\n",
        "\n",
        "1. Compile-time Polymorphism: The compiler determines the correct method to call based on the parameters passed.\n",
        "2. Runtime Polymorphism: The correct method to call is determined at runtime, based on the type of object being referred to.\n",
        "\n",
        "Benefits of Polymorphism:\n",
        "\n",
        "1. Increased Flexibility: Polymorphism allows objects to be treated as objects of a common superclass, making it easier to write generic code.\n",
        "2. Easier Maintenance: Polymorphism makes it easier to modify code, as changes to a superclass can be automatically inherited by its subclasses.\n",
        "3. Improved Readability: Polymorphism can improve code readability, as objects can be treated as objects of a common superclass, making the code more intuitive.\n",
        "\n",
        "Example:\n",
        "\n",
        "Suppose we have a superclass called Shape with subclasses Circle, Rectangle, and Triangle. We can define a method called area() in the Shape class and override it in each of the subclasses.\n",
        "\n",
        "\n",
        "class Shape:\n",
        "    def area(self):\n",
        "        pass\n",
        "\n",
        "class Circle(Shape):\n",
        "    def __init__(self, radius):\n",
        "        self.radius = radius\n",
        "\n",
        "    def area(self):\n",
        "        return 3.14 * self.radius ** 2\n",
        "\n",
        "class Rectangle(Shape):\n",
        "    def __init__(self, width, height):\n",
        "        self.width = width\n",
        "        self.height = height\n",
        "\n",
        "    def area(self):\n",
        "        return self.width * self.height\n",
        "\n",
        "shapes = [Circle(5), Rectangle(4, 6)]\n",
        "for shape in shapes:\n",
        "    print(shape.area())\n",
        "\n",
        "\n",
        "In this example, the area() method is polymorphic, as it can be called on objects of different classes (Circle, Rectangle, etc.), and the correct implementation is determined at runtime.\n"
      ],
      "metadata": {
        "id": "sO7WW-LBpCIu"
      }
    },
    {
      "cell_type": "markdown",
      "source": [
        "8.How is encapsulation achieved in Python?\n",
        "  \n",
        "  In Python, encapsulation is achieved by using access modifiers to control access to an object's attributes and methods. Python has three types of access modifiers:\n",
        "\n",
        "Public\n",
        "- No underscore prefix\n",
        "- Accessible from anywhere\n",
        "- Can be modified from anywhere\n",
        "\n",
        "Protected\n",
        "- Single underscore prefix (_)\n",
        "- Intended to be private, but can be accessed from subclasses\n",
        "- Should not be modified from outside the class\n",
        "\n",
        "Private\n",
        "- Double underscore prefix (__)\n",
        "- Not directly accessible from outside the class\n",
        "- Name mangling occurs to prevent accidental access\n",
        "\n",
        "Here's an example:\n",
        "\n",
        "\n",
        "class BankAccount:\n",
        "    def __init__(self, account_number, balance):\n",
        "        self.__account_number = account_number\n",
        "        self.__balance = balance\n",
        "\n",
        "    def get_balance(self):\n",
        "        return self.__balance\n",
        "\n",
        "    def deposit(self, amount):\n",
        "        self.__balance += amount\n",
        "\n",
        "    def __str__(self):\n",
        "        return f\"Account Number: {self.__account_number}, Balance: {self.__balance}\"\n",
        "\n",
        "# Create an object\n",
        "account = BankAccount(\"1234567890\", 1000.0)\n",
        "\n",
        "# Accessing public methods\n",
        "print(account.get_balance())\n",
        "account.deposit(500.0)\n",
        "print(account.get_balance())\n",
        "\n",
        "# Attempting to access private attributes directly\n",
        "try:\n",
        "    print(account.__account_number)\n",
        "    print(account.__balance)\n",
        "except AttributeError:\n",
        "    print(\"Error: Cannot access private attributes directly\")\n",
        "\n",
        "# Using name mangling to access private attributes\n",
        "print(account._BankAccount__account_number)\n",
        "print(account._BankAccount__balance)\n",
        "\n",
        "\n",
        "In this example:\n",
        "\n",
        "- __account_number and __balance are private attributes.\n",
        "- get_balance() and deposit() are public methods.\n",
        "- Attempting to access private attributes directly raises an AttributeError.\n",
        "- Using name mangling (_BankAccount__attribute_name) allows access to private attributes, but this is generally discouraged.\n"
      ],
      "metadata": {
        "id": "7akEzjd2pSoA"
      }
    },
    {
      "cell_type": "markdown",
      "source": [
        "9.What is a constructor in Python?\n",
        "\n",
        "In Python, a constructor is a special method that is automatically called when an object of a class is instantiated (created). The constructor is used to initialize the attributes of the class and set up the initial state of the object.\n",
        "\n",
        "Key Characteristics of a Constructor:\n",
        "\n",
        "1. Name: The constructor method is always named __init__.\n",
        "2. Parameters: The constructor can take parameters, which are used to initialize the object's attributes.\n",
        "3. Return Value: The constructor does not return a value. Its purpose is to initialize the object, not to return a value.\n",
        "\n",
        "Example of a Constructor:\n",
        "\n",
        "\n",
        "class Person:\n",
        "    def __init__(self, name, age):\n",
        "        self.name = name\n",
        "        self.age = age\n",
        "\n",
        "# Create an object of the Person class\n",
        "person = Person(\"John Doe\", 30)\n",
        "\n",
        "print(person.name)  # Output: John Doe\n",
        "print(person.age)   # Output: 30\n",
        "\n",
        "\n",
        "In this example:\n",
        "\n",
        "- The Person class has a constructor (__init__) that takes two parameters: name and age.\n",
        "- The constructor initializes the name and age attributes of the class.\n",
        "- When we create an object of the Person class, the constructor is automatically called, and the attributes are initialized with the provided values.\n",
        "\n",
        "Benefits of Constructors:\n",
        "\n",
        "1. Initialization: Constructors ensure that objects are properly initialized before use.\n",
        "2. Code Reusability: Constructors promote code reusability by providing a standardized way to create objects.\n",
        "3. Readability: Constructors improve code readability by clearly defining the object's initial state.\n"
      ],
      "metadata": {
        "id": "iYxt5ZJBpjA4"
      }
    },
    {
      "cell_type": "markdown",
      "source": [
        "10. What are class and static methods in Python?\n",
        "\n",
        "    In Python, class methods and static methods are two types of methods that can be defined inside a class.\n",
        "\n",
        "Class Methods\n",
        "\n",
        "- A class method is a method that is bound to the class rather than the instance of the class.\n",
        "- It can access or modify the class state, i.e., the class variables.\n",
        "- A class method is defined using the @classmethod decorator.\n",
        "- The first argument to a class method is always the class itself, which is referenced as cls by convention.\n",
        "\n",
        "Static Methods\n",
        "\n",
        "- A static method is a method that belongs to a class rather than an instance of the class.\n",
        "- It cannot access or modify the class state or instance state.\n",
        "- A static method is defined using the @staticmethod decorator.\n",
        "- Static methods do not take any implicit arguments (like self or cls).\n",
        "\n",
        "Key differences\n",
        "\n",
        "- Class methods can access or modify the class state, while static methods cannot.\n",
        "- Class methods take the class as an implicit argument, while static methods do not take any implicit arguments.\n"
      ],
      "metadata": {
        "id": "qJsfwNGQp_w6"
      }
    },
    {
      "cell_type": "markdown",
      "source": [
        "11.What is method overloading in Python?\n",
        "\n",
        "Method overloading is a feature in some programming languages that allows multiple methods with the same name to be defined, as long as they have different parameter lists. However, Python does not support method overloading in the classical sense.\n",
        "\n",
        "Why Python doesn't support method overloading:\n",
        "\n",
        "1. Python is dynamically typed, which means it doesn't check the types of variables at compile time. This makes it difficult to implement method overloading, which relies on the type system to resolve the correct method to call.\n",
        "2. Python's syntax and semantics are designed to be simple and consistent. Method overloading would add complexity to the language.\n",
        "\n",
        "Alternatives to method overloading in Python:\n",
        "\n",
        "1. Default argument values: You can define a method with default argument values, which allows you to call the method with varying numbers of arguments.\n",
        "\n",
        "\n",
        "```\n",
        "def greet(name, message=\"Hello\"):\n",
        "print(f\"{message}, {name}!\")\n",
        "\n",
        "greet(\"John\")  # Output: Hello, John!\n",
        "greet(\"Jane\", \"Hi\")  # Output: Hi, Jane!\n",
        "\n",
        "\n",
        "2.  *Variable-length argument lists:* You can define a method that takes a variable number of arguments using the *args or **kwargs syntax.\n",
        "\n",
        "    \n",
        "def sum_numbers(*numbers):\n",
        "    return sum(numbers)\n",
        "\n",
        "print(sum_numbers(1, 2, 3, 4, 5))  # Output: 15\n",
        "\n",
        "\n",
        "3. Single Dispatch: Python 3.4 and later versions provide the @singledispatch decorator from the functools module, which allows you to define a single function that can handle different types of arguments.\n",
        "\n",
        "\n",
        "```\n",
        "from functools import singledispatch\n",
        "\n",
        "@singledispatch\n",
        "def fun(arg):\n",
        "return arg\n",
        "\n",
        "@fun.register\n",
        "def _(arg: int):\n",
        "return arg * 2\n",
        "\n",
        "@fun.register\n",
        "def _(arg: str):\n",
        "return arg.upper()\n",
        "\n",
        "print(fun(5))  # Output: 10\n",
        "print(fun(\"hello\"))  # Output: HELLO\n",
        "\n",
        "\n",
        "While Python doesn't support method overloading in the classical sense, these alternatives provide flexible ways to define functions and methods that can handle varying inputs.\n"
      ],
      "metadata": {
        "id": "uHvL46ajqRm9"
      }
    },
    {
      "cell_type": "markdown",
      "source": [
        "12.What is method overriding in OOP?\n",
        "\n",
        "  Method overriding is a fundamental concept in Object-Oriented Programming (OOP) that allows a subclass to provide a different implementation of a method that is already defined in its superclass.\n",
        "\n",
        "Key Characteristics of Method Overriding:\n",
        "\n",
        "1. Method Name: The method name in the subclass is the same as the method name in the superclass.\n",
        "2. Method Signature: The method signature (return type, parameters, etc.) in the subclass is the same as the method signature in the superclass.\n",
        "3. Implementation: The implementation of the method in the subclass is different from the implementation in the superclass.\n",
        "\n",
        "Why Method Overriding is Useful:\n",
        "\n",
        "1. Customization: Method overriding allows a subclass to customize the behavior of a method to suit its specific needs.\n",
        "2. Specialization: Method overriding enables a subclass to specialize the behavior of a method to handle specific scenarios.\n",
        "3. Flexibility: Method overriding provides flexibility in programming, allowing developers to create objects that can adapt to different situations.\n",
        "\n",
        "Example of Method Overriding:\n",
        "\n",
        "Suppose we have a superclass called Shape with a method called area() that calculates the area of a shape. We can create a subclass called Circle that overrides the area() method to calculate the area of a circle.\n",
        "\n",
        "\n",
        "class Shape:\n",
        "    def area(self):\n",
        "        pass\n",
        "\n",
        "class Circle(Shape):\n",
        "    def __init__(self, radius):\n",
        "        self.radius = radius\n",
        "\n",
        "    def area(self):\n",
        "        return 3.14 * self.radius ** 2\n",
        "\n",
        "circle = Circle(5)\n",
        "print(circle.area())  # Output: 78.5\n",
        "\n",
        "\n",
        "In this example, the Circle class overrides the area() method of the Shape class to provide a custom implementation for calculating the area of a circle.\n"
      ],
      "metadata": {
        "id": "l9y_o0lzqhCK"
      }
    },
    {
      "cell_type": "markdown",
      "source": [
        "13.What is a property decorator in Python?\n",
        "\n",
        "   In Python, a property decorator is a special type of decorator that allows you to implement getters, setters, and deleters for an attribute of a class. It provides a way to customize access to instance data, making it easier to manage and validate data.\n",
        "\n",
        "Basic Syntax:\n",
        "\n",
        "\n",
        "class MyClass:\n",
        "    def __init__(self):\n",
        "        self._my_attribute = None\n",
        "\n",
        "    @property\n",
        "    def my_attribute(self):\n",
        "        return self._my_attribute\n",
        "\n",
        "    @my_attribute.setter\n",
        "    def my_attribute(self, value):\n",
        "        self._my_attribute = value\n",
        "\n",
        "    @my_attribute.deleter\n",
        "    def my_attribute(self):\n",
        "        del self._my_attribute\n",
        "\n",
        "\n",
        "Key Components:\n",
        "\n",
        "1. Getter: The @property decorator defines a getter method that returns the value of the attribute.\n",
        "2. Setter: The @my_attribute.setter decorator defines a setter method that sets the value of the attribute.\n",
        "3. Deleter: The @my_attribute.deleter decorator defines a deleter method that deletes the attribute.\n",
        "\n",
        "Benefits:\n",
        "\n",
        "1. Encapsulation: Property decorators help encapsulate data, making it harder for external code to modify internal state directly.\n",
        "2. Validation: You can add validation logic in the setter method to ensure that the attribute is set to a valid value.\n",
        "3. Readability: Property decorators make your code more readable by providing a clear and concise way to access and modify attributes.\n",
        "\n",
        "Example:\n",
        "\n",
        "\n",
        "class Person:\n",
        "    def __init__(self, name, age):\n",
        "        self._name = name\n",
        "        self._age = age\n",
        "\n",
        "    @property\n",
        "    def name(self):\n",
        "        return self._name\n",
        "\n",
        "    @name.setter\n",
        "    def name(self, value):\n",
        "        if not isinstance(value, str):\n",
        "            raise ValueError(\"Name must be a string\")\n",
        "        self._name = value\n",
        "\n",
        "    @property\n",
        "    def age(self):\n",
        "        return self._age\n",
        "\n",
        "    @age.setter\n",
        "    def age(self, value):\n",
        "        if not isinstance(value, int) or value < 0:\n",
        "            raise ValueError(\"Age must be a non-negative integer\")\n",
        "        self._age = value\n",
        "\n",
        "person = Person(\"John Doe\", 30)\n",
        "print(person.name)  # Output: John Doe\n",
        "print(person.age)   # Output: 30\n",
        "\n",
        "person.name = \"Jane Doe\"\n",
        "person.age = 31\n",
        "print(person.name)  # Output: Jane Doe\n",
        "print(person.age)   # Output: 31\n",
        "\n",
        "\n",
        "In this example, we define a Person class with name and age attributes. We use property decorators to implement getters, setters, and validation logic for these attributes."
      ],
      "metadata": {
        "id": "UztV6kzBqzSy"
      }
    },
    {
      "cell_type": "markdown",
      "source": [
        "14.Why is polymorphism important in OOP?\n",
        "\n",
        "   Polymorphism is a fundamental concept in Object-Oriented Programming (OOP) that plays a crucial role in designing flexible, modular, and reusable software systems. Here are some reasons why polymorphism is important in OOP:\n",
        "\n",
        "1. Increased Flexibility\n",
        "Polymorphism allows objects of different classes to be treated as objects of a common superclass. This flexibility enables you to write code that can work with a variety of data types, making your program more adaptable and easier to maintain.\n",
        "\n",
        "2. Easier Code Reuse\n",
        "Polymorphism facilitates code reuse by enabling you to write methods that can work with objects of different classes. This reduces code duplication and makes your program more efficient.\n",
        "\n",
        "3. Improved Readability\n",
        "Polymorphism makes your code more readable by allowing you to use a single method name to perform different actions, depending on the type of object being passed.\n",
        "\n",
        "4. Enhanced Extensibility\n",
        "Polymorphism enables you to add new functionality to your program without modifying existing code. You can create new subclasses that inherit behavior from existing classes and add new features.\n",
        "\n",
        "5. Better Error Handling\n",
        "Polymorphism helps you handle errors more effectively by allowing you to write methods that can handle different types of exceptions.\n",
        "\n",
        "6. More Realistic Modeling\n",
        "Polymorphism enables you to model real-world objects and systems more accurately. In the real world, objects can behave differently depending on their type or context.\n",
        "\n",
        "7. Simplified Code Maintenance\n",
        "Polymorphism simplifies code maintenance by reducing the number of methods you need to write and maintain. You can modify the behavior of a method by simply adding a new subclass or modifying an existing one.\n"
      ],
      "metadata": {
        "id": "VV-vmnt5rHTt"
      }
    },
    {
      "cell_type": "markdown",
      "source": [
        "15. What is an abstract class in Python?\n",
        "\n",
        " In Python, an abstract class is a class that cannot be instantiated and is designed to be inherited by other classes. Abstract classes are useful when you want to provide a blueprint for other classes to follow, but you don't want to create instances of the abstract class itself.\n",
        "\n",
        "Abstract Class Characteristics:\n",
        "\n",
        "1. Cannot be instantiated: You cannot create an instance of an abstract class.\n",
        "2. Designed for inheritance: Abstract classes are intended to be inherited by other classes.\n",
        "3. Can contain abstract methods: Abstract classes can define abstract methods, which are methods declared without an implementation.\n",
        "4. Can contain concrete methods: Abstract classes can also define concrete methods, which are methods with an implementation.\n",
        "\n",
        "Abstract Method Characteristics:\n",
        "\n",
        "1. Declared without an implementation: Abstract methods are declared without an implementation.\n",
        "2. Must be implemented by subclasses: Subclasses of an abstract class must provide an implementation for all abstract methods.\n",
        "\n",
        "Python Abstract Class Example:\n",
        "\n",
        "from abc import ABC, abstractmethod\n",
        "\n",
        "class Shape(ABC):\n",
        "    @abstractmethod\n",
        "    def area(self):\n",
        "        pass\n",
        "\n",
        "    @abstractmethod\n",
        "    def perimeter(self):\n",
        "        pass\n",
        "\n",
        "class Rectangle(Shape):\n",
        "    def __init__(self, width, height):\n",
        "        self.width = width\n",
        "        self.height = height\n",
        "\n",
        "    def area(self):\n",
        "        return self.width * self.height\n",
        "\n",
        "    def perimeter(self):\n",
        "        return 2 * (self.width + self.height)\n",
        "\n",
        "# Cannot instantiate Shape class\n",
        "try:\n",
        "    shape = Shape()\n",
        "except TypeError:\n",
        "    print(\"Cannot instantiate abstract class Shape\")\n",
        "\n",
        "# Can instantiate Rectangle class\n",
        "rectangle = Rectangle(4, 5)\n",
        "print(rectangle.area())  # Output: 20\n",
        "print(rectangle.perimeter())  # Output: 18\n",
        "\n",
        "In this example, Shape is an abstract class with two abstract methods: area() and perimeter(). Rectangle is a concrete subclass of Shape that provides an implementation for both abstract methods.\n"
      ],
      "metadata": {
        "id": "YF58GAfZtQqj"
      }
    },
    {
      "cell_type": "markdown",
      "source": [
        "16. What are the advantages of OOP?\n",
        "\n",
        " Object-Oriented Programming (OOP) offers several advantages that make it a popular and widely-used programming paradigm. Here are some of the main advantages of OOP:\n",
        "\n",
        "Advantages of OOP\n",
        "1. Modularity: OOP allows you to break down a large program into smaller, independent modules (classes) that can be developed, tested, and maintained separately.\n",
        "2. Reusability: OOP enables code reusability through inheritance, polymorphism, and encapsulation. You can create a class once and reuse it in multiple programs.\n",
        "3. Easier Maintenance: OOP makes it easier to modify and maintain programs by allowing you to make changes at the class level rather than the individual code level.\n",
        "4. Improved Readability: OOP promotes self-documenting code through the use of meaningful class and method names, making it easier for others to understand your code.\n",
        "5. Enhanced Security: OOP provides data hiding (encapsulation) and access control (access modifiers), which help protect sensitive data from unauthorized access.\n",
        "6. Faster Development: OOP enables faster development by providing a set of pre-defined classes and objects that can be used to build programs more quickly.\n",
        "7. Better Organization: OOP promotes better organization by allowing you to group related data and methods into a single unit (class), making it easier to manage complex programs.\n",
        "8. Improved Scalability: OOP enables improved scalability by allowing you to add new features and functionality to a program without modifying the existing codebase.\n",
        "9. Easier Error Handling: OOP provides a robust error-handling mechanism through exceptions, which make it easier to handle and recover from errors.\n",
        "10. More Realistic Modeling: OOP enables more realistic modeling of real-world objects and systems by allowing you to create classes that mimic the behavior and characteristics of real-world entities.\n",
        "\n"
      ],
      "metadata": {
        "id": "GCELqvB0vAqC"
      }
    },
    {
      "cell_type": "markdown",
      "source": [
        "17.What is the difference between a class variable and an instance variable?\n",
        "\n",
        "In object-oriented programming (OOP), a class variable and an instance variable are two types of variables that are used to store data in a class. The main difference between them is their scope, behavior, and usage.\n",
        "\n",
        "Class Variable:\n",
        "\n",
        "1. Shared by all instances: A class variable is shared by all instances of a class.\n",
        "2. Defined inside the class: A class variable is defined inside the class definition, but outside any instance method.\n",
        "3. Same value for all instances: A class variable has the same value for all instances of the class.\n",
        "4. Can be accessed using the class name: A class variable can be accessed using the class name, e.g., ClassName.variable_name.\n",
        "\n",
        "Instance Variable:\n",
        "\n",
        "1. Unique to each instance: An instance variable is unique to each instance of a class.\n",
        "2. Defined inside an instance method: An instance variable is defined inside an instance method, typically in the __init__ method.\n",
        "3. Different value for each instance: An instance variable can have a different value for each instance of the class.\n",
        "4. Can be accessed using the instance name: An instance variable can be accessed using the instance name, e.g., instance_name.variable_name.\n",
        "\n"
      ],
      "metadata": {
        "id": "QiG9xndcvONM"
      }
    },
    {
      "cell_type": "markdown",
      "source": [
        "18.What is multiple inheritance in Python?\n",
        "\n",
        "In Python, multiple inheritance is a feature that allows a class to inherit properties and behavior from more than one parent class. This means that a child class can inherit attributes and methods from multiple parent classes, allowing for greater flexibility and code reuse.\n",
        "\n",
        "Syntax:\n",
        "\n",
        "\n",
        "class ChildClass(ParentClass1, ParentClass2, ...):\n",
        "    pass\n",
        "\n",
        "\n",
        "Example:\n",
        "\n",
        "\n",
        "class Animal:\n",
        "    def eat(self):\n",
        "        print(\"Eating\")\n",
        "\n",
        "class Mammal:\n",
        "    def walk(self):\n",
        "        print(\"Walking\")\n",
        "\n",
        "class Dog(Animal, Mammal):\n",
        "    def bark(self):\n",
        "        print(\"Barking\")\n",
        "\n",
        "my_dog = Dog()\n",
        "my_dog.eat()    # Output: Eating\n",
        "my_dog.walk()   # Output: Walking\n",
        "my_dog.bark()   # Output: Barking\n",
        "\n",
        "\n",
        "In this example, the Dog class inherits the eat method from the Animal class and the walk method from the Mammal class. The Dog class also defines its own bark method.\n",
        "\n",
        "Method Resolution Order (MRO):\n",
        "\n",
        "When a class inherits from multiple parent classes, Python uses a method resolution order (MRO) to determine which method to call when there are multiple methods with the same name. The MRO is based on the C3 linearization algorithm, which ensures that the method resolution order is consistent and predictable.\n",
        "\n",
        "In the example above, the MRO for the Dog class would be:\n",
        "\n",
        "1. Dog\n",
        "2. Animal\n",
        "3. Mammal\n",
        "4. object\n",
        "\n",
        "This means that when you call a method on an instance of the Dog class, Python will first look for the method in the Dog class, then in the Animal class, then in the Mammal class, and finally in the object class."
      ],
      "metadata": {
        "id": "1qt1nrvRvkZX"
      }
    },
    {
      "cell_type": "markdown",
      "source": [
        "18.Explain the purpose of ‘’__str__’ and ‘__repr__’ ‘ methods in Python.\n",
        "\n",
        "In Python, __str__ and __repr__ are two special methods that are used to provide a string representation of an object. These methods are useful for debugging, logging, and displaying information about objects.\n",
        "\n",
        "__str__ method:\n",
        "\n",
        "The __str__ method returns a string that is intended to be human-readable. It should provide a concise and informative representation of the object. This method is called when you use the str() function or the print() function on an object.\n",
        "\n",
        "Example:\n",
        "\n",
        "class Person:\n",
        "    def __init__(self, name, age):\n",
        "        self.name = name\n",
        "        self.age = age\n",
        "\n",
        "    def __str__(self):\n",
        "        return f\"{self.name}, {self.age} years old\"\n",
        "\n",
        "person = Person(\"John Doe\", 30)\n",
        "print(person)  # Output: John Doe, 30 years old\n",
        "\n",
        "__repr__ method:\n",
        "\n",
        "The __repr__ method returns a string that is intended to be a more formal representation of the object. It should provide a complete and unambiguous representation of the object, including its type and attributes. This method is called when you use the repr() function on an object.\n",
        "\n",
        "Example:\n",
        "\n",
        "class Person:\n",
        "    def __init__(self, name, age):\n",
        "        self.name = name\n",
        "        self.age = age\n",
        "\n",
        "    def __repr__(self):\n",
        "        return f\"Person(name={self.name}, age={self.age})\"\n",
        "\n",
        "person = Person(\"John Doe\", 30)\n",
        "print(repr(person))  # Output: Person(name=John Doe, age=30)\n",
        "\n",
        "Key differences:\n",
        "\n",
        "- __str__ is intended for human-readable output, while __repr__ is intended for more formal, technical output.\n",
        "- __str__ should be concise and informative, while __repr__ should be complete and unambiguous.\n",
        "- __str__ is called by str() and print(), while __repr__ is called by repr().\n",
        "\n",
        "Best practices:\n",
        "\n",
        "- Implement both __str__ and __repr__ methods for your custom classes.\n",
        "- Use __str__ for human-readable output and __repr__ for more formal, technical output.\n",
        "- Make sure __repr__ provides a complete and unambiguous representation of the object."
      ],
      "metadata": {
        "id": "6UO3ZDdWv2ll"
      }
    },
    {
      "cell_type": "markdown",
      "source": [
        "20. What is the significance of the ‘super()’ function in Python?\n",
        "\n",
        "In Python, the super() function is used to access the methods and properties of a parent class (also known as a superclass) from a child class (also known as a subclass). The super() function returns a proxy object that allows you to call methods of the parent class.\n",
        "\n",
        "Significance of super():\n",
        "\n",
        "1. Accessing parent class methods: super() allows you to access methods of the parent class that have been overridden in the child class.\n",
        "2. Calling parent class constructors: super() can be used to call the constructor (__init__ method) of the parent class from the child class.\n",
        "3. Implementing multiple inheritance: super() helps to resolve method calls in multiple inheritance scenarios, where a child class inherits from multiple parent classes.\n",
        "4. Enabling cooperative inheritance: super() enables cooperative inheritance, where a child class can inherit behavior from a parent class and also add new behavior or override existing behavior.\n",
        "\n",
        "Example:\n",
        "\n",
        "class Animal:\n",
        "    def sound(self):\n",
        "        print(\"Animal makes a sound\")\n",
        "\n",
        "class Dog(Animal):\n",
        "    def sound(self):\n",
        "        super().sound()  # Call parent class method\n",
        "        print(\"Dog barks\")\n",
        "\n",
        "my_dog = Dog()\n",
        "my_dog.sound()\n",
        "# Output:\n",
        "# Animal makes a sound\n",
        "# Dog barks\n",
        "\n",
        "In this example, the Dog class overrides the sound method of the Animal class. The super() function is used to call the sound method of the Animal class from the Dog class.\n"
      ],
      "metadata": {
        "id": "2ZFhl7CwwOJq"
      }
    },
    {
      "cell_type": "markdown",
      "source": [
        "21.What is the significance of the __del__ method in Python?\n",
        "\n",
        "In Python, the __del__ method is a special method that is automatically called when an object is about to be destroyed. This method is also known as the destructor or finalizer.\n",
        "\n",
        "_Significance of __del__:_\n",
        "\n",
        "1. Resource deallocation: The __del__ method is used to deallocate resources, such as closing files, releasing system resources, or freeing up memory.\n",
        "2. Cleanup operations: The __del__ method can perform cleanup operations, such as deleting temporary files or resetting system settings.\n",
        "3. Debugging and logging: The __del__ method can be used for debugging and logging purposes, such as logging the destruction of an object.\n",
        "4. Customization of object destruction: The __del__ method allows you to customize the destruction of an object, such as performing specific actions before the object is destroyed.\n",
        "\n",
        "Important notes:\n",
        "\n",
        "1. Non-deterministic destruction: In Python, the destruction of an object is non-deterministic, meaning that you cannot predict when the __del__ method will be called.\n",
        "2. Reference counting: Python uses a reference counting mechanism to manage object destruction. When the reference count of an object reaches zero, the object is destroyed, and the __del__ method is called.\n",
        "3. _Avoid using __del__ for critical operations_: Due to the non-deterministic nature of object destruction, it's generally not recommended to use the __del__ method for critical operations, such as releasing system resources or performing cleanup operations.\n",
        "\n"
      ],
      "metadata": {
        "id": "hhs-rFZJwUR1"
      }
    },
    {
      "cell_type": "markdown",
      "source": [
        "22.What is the difference between @staticmethod and @classmethod in Python?\n",
        "\n",
        "In Python, @staticmethod and @classmethod are two decorators that can be used to define methods within a class. While they both allow you to call methods without creating an instance of the class, there are key differences between them.\n",
        "\n",
        "@staticmethod\n",
        "\n",
        "- A static method is a method that belongs to a class, rather than an instance of the class.\n",
        "- It does not have access to the class or instance variables.\n",
        "- It is essentially a function that is defined inside a class.\n",
        "- It is called using the class name, rather than an instance of the class.\n",
        "\n",
        "@classmethod\n",
        "\n",
        "- A class method is a method that is bound to the class, rather than an instance of the class.\n",
        "- It has access to the class variables, but not the instance variables.\n",
        "- It is called using the class name, rather than an instance of the class.\n",
        "- The first parameter to a class method is always the class itself, which is referenced as cls by convention.\n",
        "\n",
        "Key differences\n",
        "\n",
        "1. Access to variables: Static methods do not have access to class or instance variables, while class methods have access to class variables.\n",
        "2. First parameter: The first parameter to a class method is always the class itself (cls), while static methods do not have a first parameter.\n",
        "3. Usage: Static methods are used when you need a utility function that is related to the class, but does not need to access any class or instance variables. Class methods are used when you need to access class variables or create alternative constructors.\n",
        "\n",
        "\n",
        "\n"
      ],
      "metadata": {
        "id": "inBtM2r6wijN"
      }
    },
    {
      "cell_type": "markdown",
      "source": [
        "23.How does polymorphism work in Python with inheritance?\n",
        "\n",
        "Polymorphism is the ability of an object to take on multiple forms. In Python, polymorphism can be achieved through inheritance, where a child class inherits the properties and methods of a parent class and can also add new properties and methods or override the ones inherited from the parent class.\n",
        "\n",
        "How Polymorphism Works with Inheritance in Python:\n",
        "\n",
        "1. Method Overriding: When a child class provides a different implementation of a method that is already defined in its parent class, it is called method overriding. This allows the child class to provide a specific implementation for a method that is already defined in its parent class.\n",
        "\n",
        "    - Example:\n",
        "\n",
        "\n",
        "```\n",
        "class Animal:\n",
        "def sound(self):\n",
        "print(\"Animal makes a sound\")\n",
        "\n",
        "class Dog(Animal):\n",
        "def sound(self):\n",
        "print(\"Dog barks\")\n",
        "\n",
        "my_dog = Dog()\n",
        "my_dog.sound()  # Output: Dog barks\n",
        "\n",
        "\n",
        "        In this example, the Dog class overrides the sound method of the Animal class to provide its own implementation.\n",
        "\n",
        "2.  *Method Overloading:* Python does not support method overloading in the same way as some other languages. However, you can achieve similar functionality using optional arguments or by using the *args and **kwargs syntax to allow for variable numbers of arguments.\n",
        "\n",
        "    *   *Example:*\n",
        "\n",
        "        python\n",
        "class Calculator:\n",
        "    def calculate(self, *args):\n",
        "        if len(args) == 1:\n",
        "            return args[0] ** 2\n",
        "        elif len(args) == 2:\n",
        "            return args[0] + args[1]\n",
        "        else:\n",
        "            raise ValueError(\"Invalid number of arguments\")\n",
        "\n",
        "calculator = Calculator()\n",
        "print(calculator.calculate(5))  # Output: 25\n",
        "print(calculator.calculate(5, 10))  # Output: 15\n",
        "\n",
        "\n",
        "    In this example, the `calculate` method can take either one or two arguments and performs different calculations based on the number of arguments provided.\n",
        "\n",
        "3. Operator Overloading: Python also supports operator overloading, which allows you to redefine the behavior of operators such as +, -, *, etc. when working with objects of a custom class.\n",
        "\n",
        "    - Example:\n",
        "\n",
        "\n",
        "```\n",
        "class Vector:\n",
        "def *init*(self, x, y):\n",
        "self.x = x\n",
        "self.y = y\n",
        "\n",
        "def _add_(self, other):\n",
        "    return Vector(self.x + other.x, self.y + other.y)\n",
        "\n",
        "vector1 = Vector(2, 3)\n",
        "vector2 = Vector(4, 5)\n",
        "\n",
        "vector3 = vector1 + vector2\n",
        "print(vector3.x, vector3.y)  # Output: 6 8\n",
        "\n",
        "\n",
        "        In this example, the Vector class overloads the + operator to allow for vector addition.\n"
      ],
      "metadata": {
        "id": "F9DX2r56w6RI"
      }
    },
    {
      "cell_type": "markdown",
      "source": [
        "24.What is method chaining in Python OOP?\n",
        "\n",
        "  Method chaining is a technique in Python Object-Oriented Programming (OOP) where multiple methods of an object are called in a single statement, with each method returning the object itself, allowing the next method to be called on the same object.\n",
        "\n",
        "Method Chaining Syntax:\n",
        "\n",
        "\n",
        "object.method1().method2().method3()\n",
        "\n",
        "\n",
        "How Method Chaining Works:\n",
        "\n",
        "1. The first method (method1) is called on the object, and it returns the object itself.\n",
        "2. The second method (method2) is called on the returned object, and it also returns the object itself.\n",
        "3. The third method (method3) is called on the returned object, and it returns the final result.\n",
        "\n",
        "Benefits of Method Chaining:\n",
        "\n",
        "1. Improved readability: Method chaining makes the code more readable by allowing multiple operations to be performed in a single statement.\n",
        "2. Reduced code duplication: Method chaining eliminates the need to assign the result of each method to a variable, reducing code duplication.\n",
        "3. Increased flexibility: Method chaining allows for more flexibility in the order of operations and makes it easier to add or remove operations.\n",
        "\n"
      ],
      "metadata": {
        "id": "fUEODvdcxcyM"
      }
    },
    {
      "cell_type": "markdown",
      "source": [
        "25.What is the purpose of the __call__ method in Python?\n",
        "\n",
        "\n",
        "   In Python, the __call__ method is a special method that allows an object to be called as a function. This method is also known as the \"call\" method or the \"invocation\" method.\n",
        "\n",
        "_Purpose of __call__ method:_\n",
        "\n",
        "1. Making objects callable: The __call__ method allows you to make an object callable, meaning it can be invoked like a function.\n",
        "2. Implementing function-like behavior: By defining the __call__ method, you can implement function-like behavior for an object, such as taking arguments and returning values.\n",
        "3. Creating function objects: The __call__ method is used to create function objects, which are objects that can be called like functions.\n",
        "\n",
        "_How __call__ method works:_\n",
        "\n",
        "1. When an object is called like a function, Python invokes the __call__ method on that object.\n",
        "2. The __call__ method takes the arguments passed to the object and returns a value.\n",
        "3. The returned value is then used as the result of the function call.\n",
        "\n"
      ],
      "metadata": {
        "id": "pIl8Co1qxsDR"
      }
    },
    {
      "cell_type": "markdown",
      "source": [
        "# Practical Questions"
      ],
      "metadata": {
        "id": "ndfhbXqVx7v9"
      }
    },
    {
      "cell_type": "markdown",
      "source": [
        "1. Create a parent class Animal with a method speak() that prints a generic message. Create a child class Dog\n",
        "that overrides the speak() method to print \"Bark!\n",
        "\n"
      ],
      "metadata": {
        "id": "uNH4N-FbyE5K"
      }
    },
    {
      "cell_type": "code",
      "source": [
        "class Animal:\n",
        "  def speak(self):\n",
        "    print(\"The animal makes a sound.\")\n",
        "\n",
        "class Dog(Animal):\n",
        "  def speak(self):\n",
        "    print(\"Bark!\")\n",
        "\n",
        "my_dog = Dog()\n",
        "my_dog.speak()\n",
        "\n",
        "my_animal = Animal()\n",
        "my_animal.speak()"
      ],
      "metadata": {
        "colab": {
          "base_uri": "https://localhost:8080/"
        },
        "id": "krUyeKcYyk-I",
        "outputId": "1865212a-4790-4e8c-eb62-8dfa74394866"
      },
      "execution_count": 1,
      "outputs": [
        {
          "output_type": "stream",
          "name": "stdout",
          "text": [
            "Bark!\n",
            "The animal makes a sound.\n"
          ]
        }
      ]
    },
    {
      "cell_type": "markdown",
      "source": [
        "2. Write a program to create an abstract class Shape with a method area(). Derive classes Circle and Rectangle\n",
        "from it and implement the area() method in both."
      ],
      "metadata": {
        "id": "ouInoE5BzZIM"
      }
    },
    {
      "cell_type": "code",
      "source": [
        "from abc import ABC, abstractmethod\n",
        "import math\n",
        "\n",
        "class Shape(ABC):\n",
        "  @abstractmethod\n",
        "  def area(self):\n",
        "    pass\n",
        "\n",
        "class Circle(Shape):\n",
        "  def __init__(self, radius):\n",
        "    self.radius = radius\n",
        "\n",
        "  def area(self):\n",
        "    return math.pi * (self.radius ** 2)\n",
        "\n",
        "class Rectangle(Shape):\n",
        "  def __init__(self, length, width):\n",
        "    self.length = length\n",
        "    self.width = width\n",
        "\n",
        "  def area(self):\n",
        "    return self.length * self.width\n",
        "\n",
        "circle = Circle(5)\n",
        "rectangle = Rectangle(4, 6)\n",
        "\n",
        "print(\"Circle area:\", circle.area())\n",
        "print(\"Rectangle area:\", rectangle.area())"
      ],
      "metadata": {
        "colab": {
          "base_uri": "https://localhost:8080/"
        },
        "id": "3T4lNgJEzfV7",
        "outputId": "08230427-b553-4481-e67f-b98dcf3e4362"
      },
      "execution_count": 3,
      "outputs": [
        {
          "output_type": "stream",
          "name": "stdout",
          "text": [
            "Circle area: 78.53981633974483\n",
            "Rectangle area: 24\n"
          ]
        }
      ]
    },
    {
      "cell_type": "markdown",
      "source": [
        "3. Implement a multi-level inheritance scenario where a class Vehicle has an attribute type. Derive a class Car\n",
        "and further derive a class ElectricCar that adds a battery attribute."
      ],
      "metadata": {
        "id": "_-SvaGVjz6PQ"
      }
    },
    {
      "cell_type": "code",
      "source": [
        "class Vehicle:\n",
        "  def __init__(self, type):\n",
        "    self.type = type\n",
        "\n",
        "  def display_details(self):\n",
        "    print(f\"Type: {self.type}\")\n",
        "\n",
        "class Car(Vehicle):\n",
        "  def __init__(self, type, brand):\n",
        "    super().__init__(type)\n",
        "    self.brand = brand\n",
        "\n",
        "  def display_details(self):\n",
        "    super().display_details()\n",
        "    print(f\"Brand: {self.brand}\")\n",
        "\n",
        "class ElectricCar(Car):\n",
        "  def __init__(self, type, brand, battery):\n",
        "    super().__init__(type, brand)\n",
        "    self.battery = battery\n",
        "\n",
        "  def display_details(self):\n",
        "    super().display_details()\n",
        "    print(f\"Battery: {self.battery}\")\n",
        "\n",
        "electric_car = ElectricCar(\"Sedan\", \"Tesla\", \"Lithium-ion\")\n",
        "electric_car.display_details()"
      ],
      "metadata": {
        "colab": {
          "base_uri": "https://localhost:8080/"
        },
        "id": "M61SdgGiz7yL",
        "outputId": "c185e8b5-b201-4717-8611-41c9270fcaa8"
      },
      "execution_count": 4,
      "outputs": [
        {
          "output_type": "stream",
          "name": "stdout",
          "text": [
            "Type: Sedan\n",
            "Brand: Tesla\n",
            "Battery: Lithium-ion\n"
          ]
        }
      ]
    },
    {
      "cell_type": "markdown",
      "source": [
        "4. Implement a multi-level inheritance scenario where a class Vehicle has an attribute type. Derive a class Car\n",
        "and further derive a class ElectricCar that adds a battery attribute.\n"
      ],
      "metadata": {
        "id": "i57_Ic9c0ifP"
      }
    },
    {
      "cell_type": "code",
      "source": [
        "class Vehicle:\n",
        "  def __init__(self, type):\n",
        "    self.type = type\n",
        "\n",
        "  def display(self):\n",
        "    print(f\"Type: {self.type}\")\n",
        "\n",
        "class Car(Vehicle):\n",
        "  def __init__(self, type, brand, model):\n",
        "    super().__init__(type)\n",
        "    self.brand = brand\n",
        "    self.model = model\n",
        "\n",
        "  def display(self):\n",
        "    super().display()\n",
        "    print(f\"Brand: {self.brand}, Model: {self.model}\")\n",
        "\n",
        "class ElectricCar(Car):\n",
        "  def __init__(self, type, brand, model, battery_capacity):\n",
        "    super().__init__(type, brand, model)\n",
        "    self.battery_capacity = battery_capacity\n",
        "\n",
        "  def display(self):\n",
        "    super().display()\n",
        "    print(f\"Battery Capacity: {self.battery_capacity} kWh\")\n",
        "\n",
        "my_car = ElectricCar(\"Sedan\", \"Tesla\", \"Model 3\", 75)\n",
        "my_car.display()\n"
      ],
      "metadata": {
        "colab": {
          "base_uri": "https://localhost:8080/"
        },
        "id": "gdstxout0kzO",
        "outputId": "33ab9b56-d7af-45a2-bdef-726d69db9ac5"
      },
      "execution_count": 5,
      "outputs": [
        {
          "output_type": "stream",
          "name": "stdout",
          "text": [
            "Type: Sedan\n",
            "Brand: Tesla, Model: Model 3\n",
            "Battery Capacity: 75 kWh\n"
          ]
        }
      ]
    },
    {
      "cell_type": "markdown",
      "source": [
        "5. Write a program to demonstrate encapsulation by creating a class BankAccount with private attributes\n",
        "balance and methods to deposit, withdraw, and check balance."
      ],
      "metadata": {
        "id": "5r80xr410xKs"
      }
    },
    {
      "cell_type": "code",
      "source": [
        "\n",
        "class BankAccount:\n",
        "  def __init__(self):\n",
        "    self.__balance = 0\n",
        "\n",
        "  def deposit(self, amount):\n",
        "    if amount > 0:\n",
        "      self.__balance += amount\n",
        "      print(f\"Deposited ₹{amount}. Current balance: ₹{self.__balance}\")\n",
        "    else:\n",
        "      print(\"Invalid deposit amount.\")\n",
        "\n",
        "  def withdraw(self, amount):\n",
        "    if 0 < amount <= self.__balance:\n",
        "      self.__balance -= amount\n",
        "      print(f\"Withdrew ₹{amount}. Current balance: ₹{self.__balance}\")\n",
        "    else:\n",
        "      print(\"Invalid withdrawal amount.\")\n",
        "\n",
        "  def check_balance(self):\n",
        "    print(f\"Current balance: ₹{self.__balance}\")\n",
        "\n",
        "account = BankAccount()\n",
        "account.deposit(1000)\n",
        "account.withdraw(500)\n",
        "account.check_balance()\n"
      ],
      "metadata": {
        "colab": {
          "base_uri": "https://localhost:8080/"
        },
        "id": "4r8-aBRg1Dpq",
        "outputId": "b2309fdd-fa40-49a5-da1a-42d5bcf613ff"
      },
      "execution_count": 7,
      "outputs": [
        {
          "output_type": "stream",
          "name": "stdout",
          "text": [
            "Deposited ₹1000. Current balance: ₹1000\n",
            "Withdrew ₹500. Current balance: ₹500\n",
            "Current balance: ₹500\n"
          ]
        }
      ]
    },
    {
      "cell_type": "markdown",
      "source": [
        "6. Demonstrate runtime polymorphism using a method play() in a base class Instrument. Derive classes Guitar\n",
        "and Piano that implement their own version of play().\n",
        "\n",
        "\n"
      ],
      "metadata": {
        "id": "iXsio5go1LkV"
      }
    },
    {
      "cell_type": "code",
      "source": [
        "class Instrument:\n",
        "  def play(self):\n",
        "    pass\n",
        "\n",
        "class Guitar(Instrument):\n",
        "  def play(self):\n",
        "    print(\"Strumming the guitar.\")\n",
        "\n",
        "class Piano(Instrument):\n",
        "  def play(self):\n",
        "    print(\"Playing the piano.\")\n",
        "\n",
        "def play_instrument(instrument):\n",
        "  instrument.play()\n",
        "\n",
        "guitar = Guitar()\n",
        "piano = Piano()\n",
        "\n",
        "play_instrument(guitar)\n",
        "play_instrument(piano)"
      ],
      "metadata": {
        "colab": {
          "base_uri": "https://localhost:8080/"
        },
        "id": "W-VKAvJ31Mh7",
        "outputId": "dd71a50d-1db1-4926-8271-a03b70fbd858"
      },
      "execution_count": 8,
      "outputs": [
        {
          "output_type": "stream",
          "name": "stdout",
          "text": [
            "Strumming the guitar.\n",
            "Playing the piano.\n"
          ]
        }
      ]
    },
    {
      "cell_type": "markdown",
      "source": [
        "7. Create a class MathOperations with a class method add_numbers() to add two numbers and a static\n",
        "method subtract_numbers() to subtract two numbers"
      ],
      "metadata": {
        "id": "I8tx7hpV1VMj"
      }
    },
    {
      "cell_type": "code",
      "source": [
        "class MathOperations:\n",
        "  @classmethod\n",
        "  def add_numbers(cls, num1, num2):\n",
        "    return num1 + num2\n",
        "\n",
        "  @staticmethod\n",
        "  def subtract_numbers(num1, num2):\n",
        "    return num1 - num2\n",
        "\n",
        "print(MathOperations.add_numbers(10, 5))\n",
        "print(MathOperations.subtract_numbers(10, 5))"
      ],
      "metadata": {
        "colab": {
          "base_uri": "https://localhost:8080/"
        },
        "id": "85tuzh011fmH",
        "outputId": "0de6d448-55dd-424c-afa6-61f1a8a702f6"
      },
      "execution_count": 9,
      "outputs": [
        {
          "output_type": "stream",
          "name": "stdout",
          "text": [
            "15\n",
            "5\n"
          ]
        }
      ]
    },
    {
      "cell_type": "markdown",
      "source": [
        "8. Implement a class Person with a class method to count the total number of persons created"
      ],
      "metadata": {
        "id": "h5QywRMJ101P"
      }
    },
    {
      "cell_type": "code",
      "source": [
        "class Person:\n",
        "  _instance_count = 0\n",
        "\n",
        "  def __new__(cls, *args, **kwargs):\n",
        "    cls._instance_count += 1\n",
        "    return super().__new__(cls)\n",
        "\n",
        "  @classmethod\n",
        "  def get_instance_count(cls):\n",
        "    return cls._instance_count\n",
        "\n",
        "person1 = Person()\n",
        "person2 = Person()\n",
        "\n",
        "print(\"Total number of persons:\", Person.get_instance_count())"
      ],
      "metadata": {
        "colab": {
          "base_uri": "https://localhost:8080/"
        },
        "id": "N9TXJc6_11_u",
        "outputId": "0d3f1eb4-9510-4b4d-945e-6b317d3fd4cf"
      },
      "execution_count": 10,
      "outputs": [
        {
          "output_type": "stream",
          "name": "stdout",
          "text": [
            "Total number of persons: 2\n"
          ]
        }
      ]
    },
    {
      "cell_type": "markdown",
      "source": [
        "9. Write a class Fraction with attributes numerator and denominator. Override the str method to display the\n",
        "fraction as \"numerator/denominator."
      ],
      "metadata": {
        "id": "4o5L8OP62DOB"
      }
    },
    {
      "cell_type": "code",
      "source": [
        "class Fraction:\n",
        "  def __init__(self, numerator, denominator):\n",
        "    if denominator == 0:\n",
        "      raise ValueError(\"Denominator cannot be zero\")\n",
        "    self.numerator = numerator\n",
        "    self.denominator = denominator\n",
        "\n",
        "  def __str__(self):\n",
        "    return f\"{self.numerator}/{self.denominator}\"\n",
        "\n",
        "  def __add__(self, other):\n",
        "    new_numerator = self.numerator * other.denominator + other.numerator * self.denominator\n",
        "    new_denominator = self.denominator * other.denominator\n",
        "    return Fraction(new_numerator, new_denominator)\n",
        "\n",
        "  def __eq__(self, other):\n",
        "    return self.numerator * other.denominator == other.numerator * self.denominator\n",
        "\n",
        "# Test the class\n",
        "fraction1 = Fraction(1, 2)\n",
        "fraction2 = Fraction(1, 3)\n",
        "\n",
        "print(fraction1)  # Output: 1/2\n",
        "print(fraction2)  # Output: 1/3\n",
        "\n",
        "fraction3 = fraction1 + fraction2\n",
        "print(fraction3)  # Output: 5/6\n",
        "\n",
        "print(fraction1 == fraction2)  # Output: False\n"
      ],
      "metadata": {
        "colab": {
          "base_uri": "https://localhost:8080/"
        },
        "id": "0x2MIA4w2VxZ",
        "outputId": "e67f8127-fcb8-448c-df1c-8a1ec2f26554"
      },
      "execution_count": 12,
      "outputs": [
        {
          "output_type": "stream",
          "name": "stdout",
          "text": [
            "1/2\n",
            "1/3\n",
            "5/6\n",
            "False\n"
          ]
        }
      ]
    },
    {
      "cell_type": "markdown",
      "source": [
        "10. Demonstrate operator overloading by creating a class Vector and overriding the add method to add two\n",
        "vectors."
      ],
      "metadata": {
        "id": "OWBlcWhK2kGx"
      }
    },
    {
      "cell_type": "code",
      "source": [
        "class Vector:\n",
        "  def __init__(self, x, y):\n",
        "    self.x = x\n",
        "    self.y = y\n",
        "\n",
        "  def __add__(self, other):\n",
        "    return Vector(self.x + other.x, self.y + other.y)\n",
        "\n",
        "  def __str__(self):\n",
        "    return f\"({self.x}, {self.y})\"\n",
        "\n",
        "# Test the class\n",
        "vector1 = Vector(2, 3)\n",
        "vector2 = Vector(4, 5)\n",
        "\n",
        "vector3 = vector1 + vector2\n",
        "print(vector3)  # Output: (6, 8)"
      ],
      "metadata": {
        "colab": {
          "base_uri": "https://localhost:8080/"
        },
        "id": "rWDs5nuo24-z",
        "outputId": "2121453f-9bae-4b77-9604-ade87752ca72"
      },
      "execution_count": 15,
      "outputs": [
        {
          "output_type": "stream",
          "name": "stdout",
          "text": [
            "(6, 8)\n"
          ]
        }
      ]
    },
    {
      "cell_type": "markdown",
      "source": [
        "11. Create a class Person with attributes name and age. Add a method greet() that prints \"Hello, my name is\n",
        "{name} and I am {age} years old.\"\n",
        "\n",
        "MY NAME IS JAGNYASENI MOHAPATRA\n",
        "MY AGE 25"
      ],
      "metadata": {
        "id": "hnHymQ033OSk"
      }
    },
    {
      "cell_type": "code",
      "source": [
        "class Person:\n",
        "  def __init__(self, name, age):\n",
        "    self.name = name\n",
        "    self.age = age\n",
        "\n",
        "  def greet(self):\n",
        "    print(f\"Hello, my name is {self.name} and I am {self.age} years old.\")\n",
        "\n",
        "# Test the class\n",
        "person = Person(\"JAGNYASENI\", 25)\n",
        "person.greet()\n"
      ],
      "metadata": {
        "colab": {
          "base_uri": "https://localhost:8080/"
        },
        "id": "-Z3dSxlb3j4y",
        "outputId": "5be4a093-3f8b-44ac-974b-d66ec950248c"
      },
      "execution_count": 19,
      "outputs": [
        {
          "output_type": "stream",
          "name": "stdout",
          "text": [
            "Hello, my name is JAGNYASENI and I am 25 years old.\n"
          ]
        }
      ]
    },
    {
      "cell_type": "markdown",
      "source": [
        "12. Implement a class Student with attributes name and grades. Create a method average_grade() to compute\n",
        "the average of the grades."
      ],
      "metadata": {
        "id": "c_MGfPCk3x7z"
      }
    },
    {
      "cell_type": "code",
      "source": [
        "class Student:\n",
        "  def __init__(self, name, grades):\n",
        "    self.name = name\n",
        "    self.grades = grades\n",
        "\n",
        "  def average_grade(self):\n",
        "    if len(self.grades) == 0:\n",
        "      return 0\n",
        "    return sum(self.grades) / len(self.grades)\n",
        "\n",
        "# Test the class\n",
        "student = Student(\"Jagnyaseni Mohapatra\", [90, 85, 95, 92])\n",
        "print(\"Name:\", student.name)\n",
        "print(\"Grades:\", student.grades)\n",
        "print(\"Average Grade:\", student.average_grade())"
      ],
      "metadata": {
        "colab": {
          "base_uri": "https://localhost:8080/"
        },
        "id": "3WF2jw3V4WBJ",
        "outputId": "c73d4740-3e4b-4eab-e8f4-b75cd29923aa"
      },
      "execution_count": 22,
      "outputs": [
        {
          "output_type": "stream",
          "name": "stdout",
          "text": [
            "Name: Jagnyaseni Mohapatra\n",
            "Grades: [90, 85, 95, 92]\n",
            "Average Grade: 90.5\n"
          ]
        }
      ]
    },
    {
      "cell_type": "markdown",
      "source": [
        "13. Create a class Rectangle with methods set_dimensions() to set the dimensions and area() to calculate the\n",
        "area."
      ],
      "metadata": {
        "id": "OrUMaLI94nis"
      }
    },
    {
      "cell_type": "code",
      "source": [
        "class Rectangle:\n",
        "  def __init__(self):\n",
        "    self.length = 0\n",
        "    self.width = 0\n",
        "\n",
        "  def set_dimensions(self, length, width):\n",
        "    self.length = length\n",
        "    self.width = width\n",
        "\n",
        "  def area(self):\n",
        "    return self.length * self.width\n",
        "\n",
        "# Test the class\n",
        "rectangle = Rectangle()\n",
        "rectangle.set_dimensions(5, 3)\n",
        "print(\"Area:\", rectangle.area())"
      ],
      "metadata": {
        "colab": {
          "base_uri": "https://localhost:8080/"
        },
        "id": "HSkC29b04obm",
        "outputId": "4a9438f0-5747-46ac-98f5-9a6dd16acc86"
      },
      "execution_count": 26,
      "outputs": [
        {
          "output_type": "stream",
          "name": "stdout",
          "text": [
            "Area: 15\n"
          ]
        }
      ]
    },
    {
      "cell_type": "markdown",
      "source": [
        "14. Create a class Employee with a method calculate_salary() that computes the salary based on hours worked\n",
        "and hourly rate. Create a derived class Manager that adds a bonus to the salary."
      ],
      "metadata": {
        "id": "pmJQOLuU43p2"
      }
    },
    {
      "cell_type": "code",
      "source": [
        "class Employee:\n",
        "  def __init__(self, name, hours_worked, hourly_rate):\n",
        "    self.name = name\n",
        "    self.hours_worked = hours_worked\n",
        "    self.hourly_rate = hourly_rate\n",
        "\n",
        "  def calculate_salary(self):\n",
        "    return self.hours_worked * self.hourly_rate\n",
        "\n",
        "class Manager(Employee):\n",
        "  def __init__(self, name, hours_worked, hourly_rate, bonus):\n",
        "    super().__init__(name, hours_worked, hourly_rate)\n",
        "    self.bonus = bonus\n",
        "\n",
        "  def calculate_salary(self):\n",
        "    return super().calculate_salary() + self.bonus\n",
        "\n",
        "# Test the classes\n",
        "employee = Employee(\"John Doe\", 40, 50)\n",
        "print(f\"Employee {employee.name}'s salary: ${employee.calculate_salary():.2f}\")\n",
        "\n",
        "manager = Manager(\"Jane Smith\", 40, 60, 1000)\n",
        "print(f\"Manager {manager.name}'s salary: ${manager.calculate_salary():.2f}\")"
      ],
      "metadata": {
        "colab": {
          "base_uri": "https://localhost:8080/"
        },
        "id": "lf28E3EG44jL",
        "outputId": "7a6c2510-b88d-44d0-be3f-e70c2dfc4cb4"
      },
      "execution_count": 27,
      "outputs": [
        {
          "output_type": "stream",
          "name": "stdout",
          "text": [
            "Employee John Doe's salary: $2000.00\n",
            "Manager Jane Smith's salary: $3400.00\n"
          ]
        }
      ]
    },
    {
      "cell_type": "markdown",
      "source": [
        "15. Create a class Product with attributes name, price, and quantity. Implement a method total_price() that\n",
        "calculates the total price of the product."
      ],
      "metadata": {
        "id": "aP0Vry345WgD"
      }
    },
    {
      "cell_type": "code",
      "source": [
        "class Product:\n",
        "  def __init__(self, name, price, quantity):\n",
        "    self.name = name\n",
        "    self.price = price\n",
        "    self.quantity = quantity\n",
        "\n",
        "  def total_price(self):\n",
        "    return self.price * self.quantity\n",
        "\n",
        "product = Product(\"Tata Salt\", 5.0, 2)\n",
        "print(f\"Product: {product.name}\")\n",
        "print(f\"Price: ₹{product.price} Crore\")\n",
        "print(f\"Quantity: {product.quantity}\")\n",
        "print(f\"Total Price: ₹{product.total_price()} Crore\")"
      ],
      "metadata": {
        "colab": {
          "base_uri": "https://localhost:8080/"
        },
        "id": "cA-oEQSI6XYQ",
        "outputId": "34fcd0f9-4eca-4b25-bf5a-624c3c236035"
      },
      "execution_count": 46,
      "outputs": [
        {
          "output_type": "stream",
          "name": "stdout",
          "text": [
            "Product: Tata Salt\n",
            "Price: ₹5.0 Crore\n",
            "Quantity: 2\n",
            "Total Price: ₹10.0 Crore\n"
          ]
        }
      ]
    },
    {
      "cell_type": "markdown",
      "source": [
        "16. Create a class Animal with an abstract method sound(). Create two derived classes Cow and Sheep that\n",
        "implement the sound() method."
      ],
      "metadata": {
        "id": "EODCkx_r6rBH"
      }
    },
    {
      "cell_type": "code",
      "source": [
        "class Animal(ABC):\n",
        "  @abstractmethod\n",
        "  def sound(self):\n",
        "    pass\n",
        "\n",
        "class Cow(Animal):\n",
        "  def sound(self):\n",
        "    return \"Haww Maa!\"\n",
        "\n",
        "class Sheep(Animal):\n",
        "  def sound(self):\n",
        "    return \"Meee Meee!\"\n",
        "\n",
        "# Test the classes\n",
        "cow = Cow()\n",
        "print(f\"Cow says: {cow.sound()}\")\n",
        "\n",
        "sheep = Sheep()\n",
        "print(f\"Sheep says: {sheep.sound()}\")\n"
      ],
      "metadata": {
        "colab": {
          "base_uri": "https://localhost:8080/"
        },
        "id": "kkTPYMJJ7Hk8",
        "outputId": "38d8ae55-a2ad-47b9-fba5-fb57d05551c9"
      },
      "execution_count": 48,
      "outputs": [
        {
          "output_type": "stream",
          "name": "stdout",
          "text": [
            "Cow says: Haww Maa!\n",
            "Sheep says: Meee Meee!\n"
          ]
        }
      ]
    },
    {
      "cell_type": "markdown",
      "source": [
        "17. Create a class Book with attributes title, author, and year_published. Add a method get_book_info() that\n",
        "returns a formatted string with the book's details"
      ],
      "metadata": {
        "id": "KmQuvmlM7Uvl"
      }
    },
    {
      "cell_type": "code",
      "source": [
        "class Book:\n",
        "  def __init__(self, title, author, year_published):\n",
        "    self.title = title\n",
        "    self.author = author\n",
        "    self.year_published = year_published\n",
        "\n",
        "  def get_book_info(self):\n",
        "    return f\"'{self.title}' by {self.author}, published in {self.year_published}\"\n",
        "\n",
        "# Test the class\n",
        "book = Book(\"To Kill a Mockingbird\", \"Harper Lee\", 1960)\n",
        "print(book.get_book_info())"
      ],
      "metadata": {
        "colab": {
          "base_uri": "https://localhost:8080/"
        },
        "id": "2khI-fES7WGn",
        "outputId": "fb368a9b-3f2a-4fab-d8ba-5ad8c98488bd"
      },
      "execution_count": 49,
      "outputs": [
        {
          "output_type": "stream",
          "name": "stdout",
          "text": [
            "'To Kill a Mockingbird' by Harper Lee, published in 1960\n"
          ]
        }
      ]
    },
    {
      "cell_type": "markdown",
      "source": [
        "18. Create a class House with attributes address and price. Create a derived class Mansion that adds an\n",
        "attribute number_of_rooms."
      ],
      "metadata": {
        "id": "WQAJed5A7g5i"
      }
    },
    {
      "cell_type": "code",
      "source": [
        "class House:\n",
        "  def __init__(self, address, price):\n",
        "    self.address = address\n",
        "    self.price = price\n",
        "\n",
        "  def get_house_info(self):\n",
        "    return f\"Address: {self.address}, Price: ${self.price:.2f}\"\n",
        "\n",
        "class Mansion(House):\n",
        "  def __init__(self, address, price, number_of_rooms):\n",
        "    super().__init__(address, price)\n",
        "    self.number_of_rooms = number_of_rooms\n",
        "\n",
        "  def get_mansion_info(self):\n",
        "    return f\"{self.get_house_info()}, Number of Rooms: {self.number_of_rooms}\"\n",
        "\n",
        "# Test the classes\n",
        "house = House(\"123 Main St\", 500000)\n",
        "print(house.get_house_info())\n",
        "\n",
        "mansion = Mansion(\"456 Luxury Dr\", 2000000, 10)\n",
        "print(mansion.get_mansion_info())"
      ],
      "metadata": {
        "colab": {
          "base_uri": "https://localhost:8080/"
        },
        "id": "eZ4-6VIo8kF5",
        "outputId": "f4fa04ab-05c9-4f05-e2a4-49b72e3db497"
      },
      "execution_count": 57,
      "outputs": [
        {
          "output_type": "stream",
          "name": "stdout",
          "text": [
            "Address: 123 Main St, Price: $500000.00\n",
            "Address: 456 Luxury Dr, Price: $2000000.00, Number of Rooms: 10\n"
          ]
        }
      ]
    }
  ]
}